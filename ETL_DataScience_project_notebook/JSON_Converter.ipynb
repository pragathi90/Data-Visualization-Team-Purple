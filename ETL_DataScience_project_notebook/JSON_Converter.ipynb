{
 "cells": [
  {
   "cell_type": "markdown",
   "metadata": {},
   "source": [
    "# ETL Project - Scraping of desired Data Scientist skills requested in Job            Listings across United States"
   ]
  },
  {
   "cell_type": "code",
   "execution_count": 1,
   "metadata": {},
   "outputs": [],
   "source": [
    "import sys\n",
    "import re\n",
    "import unicodedata\n",
    "import string\n",
    "import numpy as np\n",
    "import pandas as pd\n",
    "\n",
    "import psycopg2 as ps\n",
    "import psycopg2.extras\n",
    "import os\n",
    "\n",
    "from sklearn.model_selection import GridSearchCV\n",
    "from sklearn.feature_extraction.text import  CountVectorizer\n",
    "from sklearn.decomposition import LatentDirichletAllocation\n",
    "\n",
    "from pprint import pprint\n",
    "\n",
    "import warnings\n",
    "warnings.simplefilter(action='ignore', category=FutureWarning)"
   ]
  },
  {
   "cell_type": "code",
   "execution_count": 2,
   "metadata": {},
   "outputs": [],
   "source": [
    "# Python SQL toolkit and Object Relational Mapper\n",
    "import sqlalchemy\n",
    "from sqlalchemy import text\n",
    "from sqlalchemy.ext.automap import automap_base\n",
    "from sqlalchemy.orm import Session\n",
    "from sqlalchemy import create_engine, func, inspect"
   ]
  },
  {
   "cell_type": "markdown",
   "metadata": {},
   "source": [
    "# Connect to the Data Scientist database"
   ]
  },
  {
   "cell_type": "code",
   "execution_count": 3,
   "metadata": {},
   "outputs": [
    {
     "name": "stdout",
     "output_type": "stream",
     "text": [
      "You are connected to -  ('PostgreSQL 11.4, compiled by Visual C++ build 1914, 64-bit',) \n",
      "\n"
     ]
    }
   ],
   "source": [
    "#Connect to the DataScientist_DB\n",
    "try:\n",
    "    #engine = create_engine(\"sqlite:///Resources/Data_Sciencetist.sqlite\")\n",
    "    conn = ps.connect(user = \"postgres\", \n",
    "                                  password = \"firstCls1\", \n",
    "                                  host = \"localhost\", \n",
    "                                  port = \"5432\", \n",
    "                                  database = \"DataScientist_DB\") \n",
    "    #Create our session (link) from Python to the DB\n",
    "    #conn = Session(engine)\n",
    "    cursor = conn.cursor()\n",
    "    # Print PostgreSQL version \n",
    "    cursor.execute(\"SELECT version();\") \n",
    "    record = cursor.fetchone() \n",
    "    print(\"You are connected to - \", record,\"\\n\") \n",
    "\n",
    "except (Exception, ps.Error) as error : \n",
    "    print (\"Error while connecting to Database: \", error) \n"
   ]
  },
  {
   "cell_type": "markdown",
   "metadata": {},
   "source": [
    "# SQL - Retrieve positions and location data"
   ]
  },
  {
   "cell_type": "code",
   "execution_count": 7,
   "metadata": {},
   "outputs": [
    {
     "data": {
      "text/html": [
       "<div>\n",
       "<style scoped>\n",
       "    .dataframe tbody tr th:only-of-type {\n",
       "        vertical-align: middle;\n",
       "    }\n",
       "\n",
       "    .dataframe tbody tr th {\n",
       "        vertical-align: top;\n",
       "    }\n",
       "\n",
       "    .dataframe thead th {\n",
       "        text-align: right;\n",
       "    }\n",
       "</style>\n",
       "<table border=\"1\" class=\"dataframe\">\n",
       "  <thead>\n",
       "    <tr style=\"text-align: right;\">\n",
       "      <th></th>\n",
       "      <th>pos_id</th>\n",
       "      <th>position</th>\n",
       "      <th>company</th>\n",
       "      <th>city</th>\n",
       "      <th>state</th>\n",
       "      <th>region</th>\n",
       "      <th>zip</th>\n",
       "      <th>lat</th>\n",
       "      <th>lng</th>\n",
       "    </tr>\n",
       "  </thead>\n",
       "  <tbody>\n",
       "    <tr>\n",
       "      <th>0</th>\n",
       "      <td>209110</td>\n",
       "      <td>Forensic Toxicologist</td>\n",
       "      <td>San Francisco Office of the Chief Medical Exam...</td>\n",
       "      <td>San Francisco</td>\n",
       "      <td>CA</td>\n",
       "      <td>SW</td>\n",
       "      <td>94111</td>\n",
       "      <td>37.799367</td>\n",
       "      <td>-122.398407</td>\n",
       "    </tr>\n",
       "    <tr>\n",
       "      <th>1</th>\n",
       "      <td>208357</td>\n",
       "      <td>Data Scientist</td>\n",
       "      <td>Near</td>\n",
       "      <td>San Francisco</td>\n",
       "      <td>CA</td>\n",
       "      <td>SW</td>\n",
       "      <td>94110</td>\n",
       "      <td>37.750021</td>\n",
       "      <td>-122.415201</td>\n",
       "    </tr>\n",
       "    <tr>\n",
       "      <th>2</th>\n",
       "      <td>208340</td>\n",
       "      <td>Data Scientist</td>\n",
       "      <td>Bold Metrics</td>\n",
       "      <td>San Francisco Bay Area</td>\n",
       "      <td>CA</td>\n",
       "      <td>SW</td>\n",
       "      <td>94104</td>\n",
       "      <td>37.791409</td>\n",
       "      <td>-122.402130</td>\n",
       "    </tr>\n",
       "    <tr>\n",
       "      <th>3</th>\n",
       "      <td>208341</td>\n",
       "      <td>Data Scientist, Audience Science</td>\n",
       "      <td>Ubisoft</td>\n",
       "      <td>San Francisco</td>\n",
       "      <td>CA</td>\n",
       "      <td>SW</td>\n",
       "      <td>94104</td>\n",
       "      <td>37.791409</td>\n",
       "      <td>-122.402130</td>\n",
       "    </tr>\n",
       "    <tr>\n",
       "      <th>4</th>\n",
       "      <td>208339</td>\n",
       "      <td>Data Scientist | Fortune 500 Retailer</td>\n",
       "      <td>BICP</td>\n",
       "      <td>San Francisco</td>\n",
       "      <td>CA</td>\n",
       "      <td>SW</td>\n",
       "      <td>94111</td>\n",
       "      <td>37.799367</td>\n",
       "      <td>-122.398407</td>\n",
       "    </tr>\n",
       "  </tbody>\n",
       "</table>\n",
       "</div>"
      ],
      "text/plain": [
       "   pos_id                               position  \\\n",
       "0  209110                  Forensic Toxicologist   \n",
       "1  208357                         Data Scientist   \n",
       "2  208340                         Data Scientist   \n",
       "3  208341       Data Scientist, Audience Science   \n",
       "4  208339  Data Scientist | Fortune 500 Retailer   \n",
       "\n",
       "                                             company                    city  \\\n",
       "0  San Francisco Office of the Chief Medical Exam...           San Francisco   \n",
       "1                                               Near           San Francisco   \n",
       "2                                       Bold Metrics  San Francisco Bay Area   \n",
       "3                                            Ubisoft           San Francisco   \n",
       "4                                               BICP           San Francisco   \n",
       "\n",
       "  state region    zip        lat         lng  \n",
       "0    CA     SW  94111  37.799367 -122.398407  \n",
       "1    CA     SW  94110  37.750021 -122.415201  \n",
       "2    CA     SW  94104  37.791409 -122.402130  \n",
       "3    CA     SW  94104  37.791409 -122.402130  \n",
       "4    CA     SW  94111  37.799367 -122.398407  "
      ]
     },
     "execution_count": 7,
     "metadata": {},
     "output_type": "execute_result"
    }
   ],
   "source": [
    "ds_pos_df = pd.read_sql_query('select ds.pos_id, ds.position, ds.company, ds.city, ds.state, rg.region, ds.zip, \\\n",
    "zp.lat, zp.lng from (ds_tbl ds left join ziplatlng_tbl zp on ds.zip = zp.zip) left join region_tbl rg on rg.state_abbr = ds.state',conn)\n",
    "ds_pos_df.head()"
   ]
  },
  {
   "cell_type": "markdown",
   "metadata": {},
   "source": [
    "# Load positions json file using ds position dataframe"
   ]
  },
  {
   "cell_type": "code",
   "execution_count": 6,
   "metadata": {},
   "outputs": [],
   "source": [
    "ExpFile = ds_pos_df.to_json (r'C:\\Users\\yc886c\\DABC_Repo1\\g6Purple_Project\\Resources\\positions.json')"
   ]
  },
  {
   "cell_type": "code",
   "execution_count": 9,
   "metadata": {},
   "outputs": [],
   "source": [
    "ExpFile = ds_pos_df.to_csv (r'C:\\Users\\yc886c\\DABC_Repo1\\g6Purple_Project\\Resources\\positions.csv')"
   ]
  },
  {
   "cell_type": "code",
   "execution_count": 186,
   "metadata": {},
   "outputs": [],
   "source": [
    "connection.close()"
   ]
  },
  {
   "cell_type": "code",
   "execution_count": null,
   "metadata": {},
   "outputs": [],
   "source": []
  },
  {
   "cell_type": "code",
   "execution_count": null,
   "metadata": {},
   "outputs": [],
   "source": []
  },
  {
   "cell_type": "code",
   "execution_count": null,
   "metadata": {},
   "outputs": [],
   "source": []
  },
  {
   "cell_type": "code",
   "execution_count": null,
   "metadata": {},
   "outputs": [],
   "source": []
  }
 ],
 "metadata": {
  "kernelspec": {
   "display_name": "Python 3",
   "language": "python",
   "name": "python3"
  },
  "language_info": {
   "codemirror_mode": {
    "name": "ipython",
    "version": 3
   },
   "file_extension": ".py",
   "mimetype": "text/x-python",
   "name": "python",
   "nbconvert_exporter": "python",
   "pygments_lexer": "ipython3",
   "version": "3.7.3"
  }
 },
 "nbformat": 4,
 "nbformat_minor": 2
}
